{
 "cells": [
  {
   "cell_type": "code",
   "execution_count": null,
   "metadata": {},
   "outputs": [],
   "source": [
    "import subprocess\n",
    "import string\n",
    "class scrape_main():\n",
    "    subprocess.run(\"scrapy crawl euroJobsCountryWiseJobPostingCount\".split())\n",
    "    print('Country wise job posting count collection done.')\n",
    "    subprocess.run(\"scrapy crawl euroJobsGetJobURLs\".split())\n",
    "    print('All job postings urls collection done')\n",
    "    subprocess.run(\"scrapy crawl euroJobsGetJobPostingDetails\".split())\n",
    "    print('All jobposting collection done')\n",
    "\n",
    "if __name__ == '__main__':\n",
    "    scrape_main()\n"
   ]
  },
  {
   "cell_type": "code",
   "execution_count": null,
   "metadata": {},
   "outputs": [],
   "source": []
  }
 ],
 "metadata": {
  "kernelspec": {
   "display_name": "Python 3",
   "language": "python",
   "name": "python3"
  },
  "language_info": {
   "codemirror_mode": {
    "name": "ipython",
    "version": 3
   },
   "file_extension": ".py",
   "mimetype": "text/x-python",
   "name": "python",
   "nbconvert_exporter": "python",
   "pygments_lexer": "ipython3",
   "version": "3.7.4"
  }
 },
 "nbformat": 4,
 "nbformat_minor": 2
}
